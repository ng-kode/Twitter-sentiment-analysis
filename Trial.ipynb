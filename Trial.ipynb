{
 "cells": [
  {
   "cell_type": "code",
   "execution_count": 16,
   "metadata": {},
   "outputs": [],
   "source": [
    "import pandas as pd\n",
    "import numpy as np\n",
    "import matplotlib.pyplot as plt\n",
    "%matplotlib inline\n",
    "from Helpers import plot_train_stat_per_epoch"
   ]
  },
  {
   "cell_type": "code",
   "execution_count": 6,
   "metadata": {
    "scrolled": true
   },
   "outputs": [
    {
     "data": {
      "text/html": [
       "<div>\n",
       "<style scoped>\n",
       "    .dataframe tbody tr th:only-of-type {\n",
       "        vertical-align: middle;\n",
       "    }\n",
       "\n",
       "    .dataframe tbody tr th {\n",
       "        vertical-align: top;\n",
       "    }\n",
       "\n",
       "    .dataframe thead th {\n",
       "        text-align: right;\n",
       "    }\n",
       "</style>\n",
       "<table border=\"1\" class=\"dataframe\">\n",
       "  <thead>\n",
       "    <tr style=\"text-align: right;\">\n",
       "      <th></th>\n",
       "      <th>ItemID</th>\n",
       "      <th>Sentiment</th>\n",
       "      <th>SentimentText</th>\n",
       "    </tr>\n",
       "  </thead>\n",
       "  <tbody>\n",
       "    <tr>\n",
       "      <th>0</th>\n",
       "      <td>1</td>\n",
       "      <td>0</td>\n",
       "      <td>is so sad for my APL frie...</td>\n",
       "    </tr>\n",
       "    <tr>\n",
       "      <th>1</th>\n",
       "      <td>2</td>\n",
       "      <td>0</td>\n",
       "      <td>I missed the New Moon trail...</td>\n",
       "    </tr>\n",
       "    <tr>\n",
       "      <th>2</th>\n",
       "      <td>3</td>\n",
       "      <td>1</td>\n",
       "      <td>omg its already 7:30 :O</td>\n",
       "    </tr>\n",
       "    <tr>\n",
       "      <th>3</th>\n",
       "      <td>4</td>\n",
       "      <td>0</td>\n",
       "      <td>.. Omgaga. Im sooo  im gunna CRy. I'...</td>\n",
       "    </tr>\n",
       "    <tr>\n",
       "      <th>4</th>\n",
       "      <td>5</td>\n",
       "      <td>0</td>\n",
       "      <td>i think mi bf is cheating on me!!!   ...</td>\n",
       "    </tr>\n",
       "    <tr>\n",
       "      <th>5</th>\n",
       "      <td>6</td>\n",
       "      <td>0</td>\n",
       "      <td>or i just worry too much?</td>\n",
       "    </tr>\n",
       "    <tr>\n",
       "      <th>6</th>\n",
       "      <td>7</td>\n",
       "      <td>1</td>\n",
       "      <td>Juuuuuuuuuuuuuuuuussssst Chillin!!</td>\n",
       "    </tr>\n",
       "    <tr>\n",
       "      <th>7</th>\n",
       "      <td>8</td>\n",
       "      <td>0</td>\n",
       "      <td>Sunny Again        Work Tomorrow  :-|  ...</td>\n",
       "    </tr>\n",
       "    <tr>\n",
       "      <th>8</th>\n",
       "      <td>9</td>\n",
       "      <td>1</td>\n",
       "      <td>handed in my uniform today . i miss you ...</td>\n",
       "    </tr>\n",
       "    <tr>\n",
       "      <th>9</th>\n",
       "      <td>10</td>\n",
       "      <td>1</td>\n",
       "      <td>hmmmm.... i wonder how she my number @-)</td>\n",
       "    </tr>\n",
       "    <tr>\n",
       "      <th>10</th>\n",
       "      <td>11</td>\n",
       "      <td>0</td>\n",
       "      <td>I must think about positive..</td>\n",
       "    </tr>\n",
       "    <tr>\n",
       "      <th>11</th>\n",
       "      <td>12</td>\n",
       "      <td>1</td>\n",
       "      <td>thanks to all the haters up in my face a...</td>\n",
       "    </tr>\n",
       "    <tr>\n",
       "      <th>12</th>\n",
       "      <td>13</td>\n",
       "      <td>0</td>\n",
       "      <td>this weekend has sucked so far</td>\n",
       "    </tr>\n",
       "    <tr>\n",
       "      <th>13</th>\n",
       "      <td>14</td>\n",
       "      <td>0</td>\n",
       "      <td>jb isnt showing in australia any more!</td>\n",
       "    </tr>\n",
       "    <tr>\n",
       "      <th>14</th>\n",
       "      <td>15</td>\n",
       "      <td>0</td>\n",
       "      <td>ok thats it you win.</td>\n",
       "    </tr>\n",
       "    <tr>\n",
       "      <th>15</th>\n",
       "      <td>16</td>\n",
       "      <td>0</td>\n",
       "      <td>&amp;lt;-------- This is the way i feel right ...</td>\n",
       "    </tr>\n",
       "    <tr>\n",
       "      <th>16</th>\n",
       "      <td>17</td>\n",
       "      <td>0</td>\n",
       "      <td>awhhe man.... I'm completely useless rt no...</td>\n",
       "    </tr>\n",
       "    <tr>\n",
       "      <th>17</th>\n",
       "      <td>18</td>\n",
       "      <td>1</td>\n",
       "      <td>Feeling strangely fine. Now I'm gonna go l...</td>\n",
       "    </tr>\n",
       "    <tr>\n",
       "      <th>18</th>\n",
       "      <td>19</td>\n",
       "      <td>0</td>\n",
       "      <td>HUGE roll of thunder just now...SO scary!!!!</td>\n",
       "    </tr>\n",
       "    <tr>\n",
       "      <th>19</th>\n",
       "      <td>20</td>\n",
       "      <td>0</td>\n",
       "      <td>I just cut my beard off. It's only been gr...</td>\n",
       "    </tr>\n",
       "    <tr>\n",
       "      <th>20</th>\n",
       "      <td>21</td>\n",
       "      <td>0</td>\n",
       "      <td>Very sad about Iran.</td>\n",
       "    </tr>\n",
       "    <tr>\n",
       "      <th>21</th>\n",
       "      <td>22</td>\n",
       "      <td>0</td>\n",
       "      <td>wompppp wompp</td>\n",
       "    </tr>\n",
       "    <tr>\n",
       "      <th>22</th>\n",
       "      <td>23</td>\n",
       "      <td>1</td>\n",
       "      <td>You're the only one who can see this cause...</td>\n",
       "    </tr>\n",
       "    <tr>\n",
       "      <th>23</th>\n",
       "      <td>24</td>\n",
       "      <td>0</td>\n",
       "      <td>&amp;lt;---Sad level is 3. I was writing a mass...</td>\n",
       "    </tr>\n",
       "    <tr>\n",
       "      <th>24</th>\n",
       "      <td>25</td>\n",
       "      <td>0</td>\n",
       "      <td>...  Headed to Hospitol : Had to pull out o...</td>\n",
       "    </tr>\n",
       "    <tr>\n",
       "      <th>25</th>\n",
       "      <td>26</td>\n",
       "      <td>0</td>\n",
       "      <td>BoRinG   ): whats wrong with him??     Plea...</td>\n",
       "    </tr>\n",
       "    <tr>\n",
       "      <th>26</th>\n",
       "      <td>27</td>\n",
       "      <td>0</td>\n",
       "      <td>can't be bothered. i wish i could spend the...</td>\n",
       "    </tr>\n",
       "    <tr>\n",
       "      <th>27</th>\n",
       "      <td>28</td>\n",
       "      <td>0</td>\n",
       "      <td>Feeeling like shit right now. I really want...</td>\n",
       "    </tr>\n",
       "    <tr>\n",
       "      <th>28</th>\n",
       "      <td>29</td>\n",
       "      <td>1</td>\n",
       "      <td>goodbye exams, HELLO ALCOHOL TONIGHT</td>\n",
       "    </tr>\n",
       "    <tr>\n",
       "      <th>29</th>\n",
       "      <td>30</td>\n",
       "      <td>0</td>\n",
       "      <td>I didn't realize it was THAT deep. Geez giv...</td>\n",
       "    </tr>\n",
       "    <tr>\n",
       "      <th>...</th>\n",
       "      <td>...</td>\n",
       "      <td>...</td>\n",
       "      <td>...</td>\n",
       "    </tr>\n",
       "    <tr>\n",
       "      <th>99959</th>\n",
       "      <td>99971</td>\n",
       "      <td>0</td>\n",
       "      <td>@CT415 @UCLA_Bruin  it made me sad too!  that ...</td>\n",
       "    </tr>\n",
       "    <tr>\n",
       "      <th>99960</th>\n",
       "      <td>99972</td>\n",
       "      <td>1</td>\n",
       "      <td>@CT415 I agree. I think they all have that fet...</td>\n",
       "    </tr>\n",
       "    <tr>\n",
       "      <th>99961</th>\n",
       "      <td>99973</td>\n",
       "      <td>0</td>\n",
       "      <td>@ct415 I hope it's not too serious of an injur...</td>\n",
       "    </tr>\n",
       "    <tr>\n",
       "      <th>99962</th>\n",
       "      <td>99974</td>\n",
       "      <td>0</td>\n",
       "      <td>@ctabita if it's any consolation, this weekend...</td>\n",
       "    </tr>\n",
       "    <tr>\n",
       "      <th>99963</th>\n",
       "      <td>99975</td>\n",
       "      <td>1</td>\n",
       "      <td>@ctayah got your back, yo!</td>\n",
       "    </tr>\n",
       "    <tr>\n",
       "      <th>99964</th>\n",
       "      <td>99976</td>\n",
       "      <td>1</td>\n",
       "      <td>@ctaylor0127 I can't wait to see that movie. E...</td>\n",
       "    </tr>\n",
       "    <tr>\n",
       "      <th>99965</th>\n",
       "      <td>99977</td>\n",
       "      <td>1</td>\n",
       "      <td>@ctaylor10127 @smelby I am excited and a littl...</td>\n",
       "    </tr>\n",
       "    <tr>\n",
       "      <th>99966</th>\n",
       "      <td>99978</td>\n",
       "      <td>0</td>\n",
       "      <td>@ctb1221 yeah  sorry.going to a concert that n...</td>\n",
       "    </tr>\n",
       "    <tr>\n",
       "      <th>99967</th>\n",
       "      <td>99979</td>\n",
       "      <td>1</td>\n",
       "      <td>@ctcash @buildingateam @diabetescure @chocolat...</td>\n",
       "    </tr>\n",
       "    <tr>\n",
       "      <th>99968</th>\n",
       "      <td>99980</td>\n",
       "      <td>1</td>\n",
       "      <td>@ctdesign87 im so glad you went to china town ...</td>\n",
       "    </tr>\n",
       "    <tr>\n",
       "      <th>99969</th>\n",
       "      <td>99981</td>\n",
       "      <td>0</td>\n",
       "      <td>@CTerry1985  Sorry</td>\n",
       "    </tr>\n",
       "    <tr>\n",
       "      <th>99970</th>\n",
       "      <td>99982</td>\n",
       "      <td>0</td>\n",
       "      <td>@CTerry1985 damn it, dont have sky</td>\n",
       "    </tr>\n",
       "    <tr>\n",
       "      <th>99971</th>\n",
       "      <td>99983</td>\n",
       "      <td>0</td>\n",
       "      <td>@CTerry1985 That's the thing; the new raft of ...</td>\n",
       "    </tr>\n",
       "    <tr>\n",
       "      <th>99972</th>\n",
       "      <td>99984</td>\n",
       "      <td>1</td>\n",
       "      <td>@cthagod</td>\n",
       "    </tr>\n",
       "    <tr>\n",
       "      <th>99973</th>\n",
       "      <td>99985</td>\n",
       "      <td>1</td>\n",
       "      <td>@ctham  #FollowFriday</td>\n",
       "    </tr>\n",
       "    <tr>\n",
       "      <th>99974</th>\n",
       "      <td>99986</td>\n",
       "      <td>0</td>\n",
       "      <td>@ctham #awaresg You are not wrong. But from a ...</td>\n",
       "    </tr>\n",
       "    <tr>\n",
       "      <th>99975</th>\n",
       "      <td>99987</td>\n",
       "      <td>0</td>\n",
       "      <td>@ctham @mommyfizz cuz you big burly man.  haha...</td>\n",
       "    </tr>\n",
       "    <tr>\n",
       "      <th>99976</th>\n",
       "      <td>99988</td>\n",
       "      <td>1</td>\n",
       "      <td>@ctham @Wilsurn Trying to get a wider range of...</td>\n",
       "    </tr>\n",
       "    <tr>\n",
       "      <th>99977</th>\n",
       "      <td>99989</td>\n",
       "      <td>1</td>\n",
       "      <td>@ctham Haha I love the passion in your support</td>\n",
       "    </tr>\n",
       "    <tr>\n",
       "      <th>99978</th>\n",
       "      <td>99990</td>\n",
       "      <td>1</td>\n",
       "      <td>@cthulhullahoop That sucks...I like living in ...</td>\n",
       "    </tr>\n",
       "    <tr>\n",
       "      <th>99979</th>\n",
       "      <td>99991</td>\n",
       "      <td>1</td>\n",
       "      <td>@cunningstunts till i can go home been here ti...</td>\n",
       "    </tr>\n",
       "    <tr>\n",
       "      <th>99980</th>\n",
       "      <td>99992</td>\n",
       "      <td>1</td>\n",
       "      <td>@cunningstunts22 afternoon jim hows you  x</td>\n",
       "    </tr>\n",
       "    <tr>\n",
       "      <th>99981</th>\n",
       "      <td>99993</td>\n",
       "      <td>0</td>\n",
       "      <td>@cup_a_tea The foot is really bad. Like the wo...</td>\n",
       "    </tr>\n",
       "    <tr>\n",
       "      <th>99982</th>\n",
       "      <td>99994</td>\n",
       "      <td>1</td>\n",
       "      <td>@Cup_Of_Katy Have fun doing health &amp;amp; safet...</td>\n",
       "    </tr>\n",
       "    <tr>\n",
       "      <th>99983</th>\n",
       "      <td>99995</td>\n",
       "      <td>0</td>\n",
       "      <td>@cupati It took me waaay too long to get your ...</td>\n",
       "    </tr>\n",
       "    <tr>\n",
       "      <th>99984</th>\n",
       "      <td>99996</td>\n",
       "      <td>0</td>\n",
       "      <td>@Cupcake  seems like a repeating problem   hop...</td>\n",
       "    </tr>\n",
       "    <tr>\n",
       "      <th>99985</th>\n",
       "      <td>99997</td>\n",
       "      <td>1</td>\n",
       "      <td>@cupcake__ arrrr we both replied to each other...</td>\n",
       "    </tr>\n",
       "    <tr>\n",
       "      <th>99986</th>\n",
       "      <td>99998</td>\n",
       "      <td>0</td>\n",
       "      <td>@CuPcAkE_2120 ya i thought so</td>\n",
       "    </tr>\n",
       "    <tr>\n",
       "      <th>99987</th>\n",
       "      <td>99999</td>\n",
       "      <td>1</td>\n",
       "      <td>@Cupcake_Dollie Yes. Yes. I'm glad you had mor...</td>\n",
       "    </tr>\n",
       "    <tr>\n",
       "      <th>99988</th>\n",
       "      <td>100000</td>\n",
       "      <td>1</td>\n",
       "      <td>@cupcake_kayla haha yes you do</td>\n",
       "    </tr>\n",
       "  </tbody>\n",
       "</table>\n",
       "<p>99989 rows × 3 columns</p>\n",
       "</div>"
      ],
      "text/plain": [
       "       ItemID  Sentiment                                      SentimentText\n",
       "0           1          0                       is so sad for my APL frie...\n",
       "1           2          0                     I missed the New Moon trail...\n",
       "2           3          1                            omg its already 7:30 :O\n",
       "3           4          0            .. Omgaga. Im sooo  im gunna CRy. I'...\n",
       "4           5          0           i think mi bf is cheating on me!!!   ...\n",
       "5           6          0                  or i just worry too much?        \n",
       "6           7          1                 Juuuuuuuuuuuuuuuuussssst Chillin!!\n",
       "7           8          0         Sunny Again        Work Tomorrow  :-|  ...\n",
       "8           9          1        handed in my uniform today . i miss you ...\n",
       "9          10          1           hmmmm.... i wonder how she my number @-)\n",
       "10         11          0                      I must think about positive..\n",
       "11         12          1        thanks to all the haters up in my face a...\n",
       "12         13          0                     this weekend has sucked so far\n",
       "13         14          0             jb isnt showing in australia any more!\n",
       "14         15          0                               ok thats it you win.\n",
       "15         16          0      &lt;-------- This is the way i feel right ...\n",
       "16         17          0      awhhe man.... I'm completely useless rt no...\n",
       "17         18          1      Feeling strangely fine. Now I'm gonna go l...\n",
       "18         19          0       HUGE roll of thunder just now...SO scary!!!!\n",
       "19         20          0      I just cut my beard off. It's only been gr...\n",
       "20         21          0                               Very sad about Iran.\n",
       "21         22          0                                      wompppp wompp\n",
       "22         23          1      You're the only one who can see this cause...\n",
       "23         24          0     &lt;---Sad level is 3. I was writing a mass...\n",
       "24         25          0     ...  Headed to Hospitol : Had to pull out o...\n",
       "25         26          0     BoRinG   ): whats wrong with him??     Plea...\n",
       "26         27          0     can't be bothered. i wish i could spend the...\n",
       "27         28          0     Feeeling like shit right now. I really want...\n",
       "28         29          1              goodbye exams, HELLO ALCOHOL TONIGHT \n",
       "29         30          0     I didn't realize it was THAT deep. Geez giv...\n",
       "...       ...        ...                                                ...\n",
       "99959   99971          0  @CT415 @UCLA_Bruin  it made me sad too!  that ...\n",
       "99960   99972          1  @CT415 I agree. I think they all have that fet...\n",
       "99961   99973          0  @ct415 I hope it's not too serious of an injur...\n",
       "99962   99974          0  @ctabita if it's any consolation, this weekend...\n",
       "99963   99975          1                        @ctayah got your back, yo! \n",
       "99964   99976          1  @ctaylor0127 I can't wait to see that movie. E...\n",
       "99965   99977          1  @ctaylor10127 @smelby I am excited and a littl...\n",
       "99966   99978          0  @ctb1221 yeah  sorry.going to a concert that n...\n",
       "99967   99979          1  @ctcash @buildingateam @diabetescure @chocolat...\n",
       "99968   99980          1  @ctdesign87 im so glad you went to china town ...\n",
       "99969   99981          0                                 @CTerry1985  Sorry\n",
       "99970   99982          0                @CTerry1985 damn it, dont have sky \n",
       "99971   99983          0  @CTerry1985 That's the thing; the new raft of ...\n",
       "99972   99984          1                                          @cthagod \n",
       "99973   99985          1                              @ctham  #FollowFriday\n",
       "99974   99986          0  @ctham #awaresg You are not wrong. But from a ...\n",
       "99975   99987          0  @ctham @mommyfizz cuz you big burly man.  haha...\n",
       "99976   99988          1  @ctham @Wilsurn Trying to get a wider range of...\n",
       "99977   99989          1    @ctham Haha I love the passion in your support \n",
       "99978   99990          1  @cthulhullahoop That sucks...I like living in ...\n",
       "99979   99991          1  @cunningstunts till i can go home been here ti...\n",
       "99980   99992          1         @cunningstunts22 afternoon jim hows you  x\n",
       "99981   99993          0  @cup_a_tea The foot is really bad. Like the wo...\n",
       "99982   99994          1  @Cup_Of_Katy Have fun doing health &amp; safet...\n",
       "99983   99995          0  @cupati It took me waaay too long to get your ...\n",
       "99984   99996          0  @Cupcake  seems like a repeating problem   hop...\n",
       "99985   99997          1  @cupcake__ arrrr we both replied to each other...\n",
       "99986   99998          0                     @CuPcAkE_2120 ya i thought so \n",
       "99987   99999          1  @Cupcake_Dollie Yes. Yes. I'm glad you had mor...\n",
       "99988  100000          1                    @cupcake_kayla haha yes you do \n",
       "\n",
       "[99989 rows x 3 columns]"
      ]
     },
     "execution_count": 6,
     "metadata": {},
     "output_type": "execute_result"
    }
   ],
   "source": [
    "# Source: https://www.kaggle.com/c/twitter-sentiment-analysis2/data\n",
    "# train: https://www.kaggle.com/c/6740/download/train.csv\n",
    "# test: https://www.kaggle.com/c/6740/download/test.csv\n",
    "\n",
    "df = pd.read_csv('train.csv', encoding='latin-1')\n",
    "df"
   ]
  },
  {
   "cell_type": "code",
   "execution_count": 145,
   "metadata": {},
   "outputs": [
    {
     "data": {
      "text/plain": [
       "'      handed in my uniform today . i miss you already'"
      ]
     },
     "execution_count": 145,
     "metadata": {},
     "output_type": "execute_result"
    }
   ],
   "source": [
    "df.iloc[8]['SentimentText']"
   ]
  },
  {
   "cell_type": "code",
   "execution_count": 8,
   "metadata": {},
   "outputs": [],
   "source": [
    "X = df['SentimentText'].values\n",
    "y = df['Sentiment'].values"
   ]
  },
  {
   "cell_type": "code",
   "execution_count": 11,
   "metadata": {},
   "outputs": [],
   "source": [
    "from keras.preprocessing.text import Tokenizer\n",
    "\n",
    "tk = Tokenizer()\n",
    "tk.fit_on_texts(X)"
   ]
  },
  {
   "cell_type": "code",
   "execution_count": 60,
   "metadata": {},
   "outputs": [
    {
     "data": {
      "text/plain": [
       "106612"
      ]
     },
     "execution_count": 60,
     "metadata": {},
     "output_type": "execute_result"
    }
   ],
   "source": [
    "len(tk.word_index)"
   ]
  },
  {
   "cell_type": "code",
   "execution_count": 17,
   "metadata": {
    "collapsed": true
   },
   "outputs": [
    {
     "data": {
      "text/plain": [
       "(array([5.4866e+04, 4.2494e+04, 2.6260e+03, 1.0000e+00, 1.0000e+00,\n",
       "        0.0000e+00, 0.0000e+00, 0.0000e+00, 0.0000e+00, 1.0000e+00]),\n",
       " array([  1. ,  13.6,  26.2,  38.8,  51.4,  64. ,  76.6,  89.2, 101.8,\n",
       "        114.4, 127. ]),\n",
       " <a list of 10 Patch objects>)"
      ]
     },
     "execution_count": 17,
     "metadata": {},
     "output_type": "execute_result"
    },
    {
     "data": {
      "image/png": "[encoded data removed]",
      "text/plain": [
       "<Figure size 432x288 with 1 Axes>"
      ]
     },
     "metadata": {},
     "output_type": "display_data"
    }
   ],
   "source": [
    "plt.hist([len(tweet.split()) for tweet in X])"
   ]
  },
  {
   "cell_type": "code",
   "execution_count": 171,
   "metadata": {},
   "outputs": [],
   "source": [
    "maxlen = 30"
   ]
  },
  {
   "cell_type": "code",
   "execution_count": 61,
   "metadata": {},
   "outputs": [],
   "source": [
    "max_words = 10000\n",
    "tk.num_words = max_words"
   ]
  },
  {
   "cell_type": "code",
   "execution_count": 62,
   "metadata": {},
   "outputs": [],
   "source": [
    "X_seq = tk.texts_to_sequences(X)"
   ]
  },
  {
   "cell_type": "code",
   "execution_count": 63,
   "metadata": {},
   "outputs": [],
   "source": [
    "from keras.preprocessing.sequence import pad_sequences\n",
    "\n",
    "X_pad = pad_sequences(X_seq, maxlen=maxlen)"
   ]
  },
  {
   "cell_type": "code",
   "execution_count": 64,
   "metadata": {},
   "outputs": [
    {
     "data": {
      "text/plain": [
       "(99989, 30)"
      ]
     },
     "execution_count": 64,
     "metadata": {},
     "output_type": "execute_result"
    }
   ],
   "source": [
    "X_pad.shape"
   ]
  },
  {
   "cell_type": "code",
   "execution_count": 65,
   "metadata": {},
   "outputs": [
    {
     "data": {
      "text/plain": [
       "(99989,)"
      ]
     },
     "execution_count": 65,
     "metadata": {},
     "output_type": "execute_result"
    }
   ],
   "source": [
    "y.shape"
   ]
  },
  {
   "cell_type": "markdown",
   "metadata": {},
   "source": [
    "# let's skip one-hot first and try (can skip)"
   ]
  },
  {
   "cell_type": "code",
   "execution_count": 290,
   "metadata": {},
   "outputs": [],
   "source": [
    "from sklearn.model_selection import train_test_split\n",
    "\n",
    "X_train, X_test, y_train, y_test = train_test_split(X_pad, y, test_size=0.33, random_state=0)"
   ]
  },
  {
   "cell_type": "code",
   "execution_count": 291,
   "metadata": {},
   "outputs": [
    {
     "data": {
      "text/plain": [
       "(66992, 30)"
      ]
     },
     "execution_count": 291,
     "metadata": {},
     "output_type": "execute_result"
    }
   ],
   "source": [
    "X_train.shape"
   ]
  },
  {
   "cell_type": "code",
   "execution_count": 293,
   "metadata": {},
   "outputs": [],
   "source": [
    "train_samples = int(X_train.shape[0] * 0.7)\n",
    "X_train_part = X_train[:train_samples]\n",
    "y_train_part = y_train[:train_samples]\n",
    "X_val = X_train[train_samples:]\n",
    "y_val = y_train[train_samples:]"
   ]
  },
  {
   "cell_type": "code",
   "execution_count": 69,
   "metadata": {},
   "outputs": [
    {
     "data": {
      "text/plain": [
       "GaussianNB(priors=None)"
      ]
     },
     "execution_count": 69,
     "metadata": {},
     "output_type": "execute_result"
    }
   ],
   "source": [
    "from sklearn.naive_bayes import GaussianNB\n",
    "nb = GaussianNB()\n",
    "nb.fit(X_train_part, y_train_part)"
   ]
  },
  {
   "cell_type": "code",
   "execution_count": 70,
   "metadata": {},
   "outputs": [
    {
     "data": {
      "text/plain": [
       "0.5624937804756692"
      ]
     },
     "execution_count": 70,
     "metadata": {},
     "output_type": "execute_result"
    }
   ],
   "source": [
    "nb.score(X_val, y_val)"
   ]
  },
  {
   "cell_type": "code",
   "execution_count": 82,
   "metadata": {},
   "outputs": [
    {
     "name": "stdout",
     "output_type": "stream",
     "text": [
      "_________________________________________________________________\n",
      "Layer (type)                 Output Shape              Param #   \n",
      "=================================================================\n",
      "dense_12 (Dense)             (None, 32)                992       \n",
      "_________________________________________________________________\n",
      "dense_13 (Dense)             (None, 1)                 33        \n",
      "=================================================================\n",
      "Total params: 1,025\n",
      "Trainable params: 1,025\n",
      "Non-trainable params: 0\n",
      "_________________________________________________________________\n"
     ]
    }
   ],
   "source": [
    "from keras.models import Sequential\n",
    "from keras.layers import Dense\n",
    "from keras.optimizers import RMSprop\n",
    "\n",
    "model = Sequential()\n",
    "model.add(Dense(32, activation='relu', input_shape=(30,)))\n",
    "model.add(Dense(1, activation='sigmoid'))\n",
    "\n",
    "model.compile(optimizer='rmsprop', loss='binary_crossentropy', metrics=['binary_accuracy'])\n",
    "model.summary()"
   ]
  },
  {
   "cell_type": "code",
   "execution_count": 85,
   "metadata": {
    "collapsed": true
   },
   "outputs": [
    {
     "name": "stdout",
     "output_type": "stream",
     "text": [
      "Train on 46894 samples, validate on 20098 samples\n",
      "Epoch 1/50\n",
      " - 2s - loss: 0.7319 - binary_accuracy: 0.5566 - val_loss: 0.7128 - val_binary_accuracy: 0.5593\n",
      "Epoch 2/50\n",
      " - 2s - loss: 0.7094 - binary_accuracy: 0.5667 - val_loss: 0.7063 - val_binary_accuracy: 0.5630\n",
      "Epoch 3/50\n",
      " - 2s - loss: 0.7054 - binary_accuracy: 0.5674 - val_loss: 0.7087 - val_binary_accuracy: 0.5622\n",
      "Epoch 4/50\n",
      " - 2s - loss: 0.7028 - binary_accuracy: 0.5672 - val_loss: 0.7117 - val_binary_accuracy: 0.5640\n",
      "Epoch 5/50\n",
      " - 2s - loss: 0.7037 - binary_accuracy: 0.5676 - val_loss: 0.7074 - val_binary_accuracy: 0.5637\n",
      "Epoch 6/50\n",
      " - 2s - loss: 0.7070 - binary_accuracy: 0.5672 - val_loss: 0.7053 - val_binary_accuracy: 0.5638\n",
      "Epoch 7/50\n",
      " - 2s - loss: 0.7050 - binary_accuracy: 0.5683 - val_loss: 0.7048 - val_binary_accuracy: 0.5633\n",
      "Epoch 8/50\n",
      " - 2s - loss: 0.7017 - binary_accuracy: 0.5679 - val_loss: 0.7026 - val_binary_accuracy: 0.5641\n",
      "Epoch 9/50\n",
      " - 2s - loss: 0.7011 - binary_accuracy: 0.5679 - val_loss: 0.7171 - val_binary_accuracy: 0.5635\n",
      "Epoch 10/50\n",
      " - 2s - loss: 0.7015 - binary_accuracy: 0.5681 - val_loss: 0.7202 - val_binary_accuracy: 0.5639\n",
      "Epoch 11/50\n",
      " - 1s - loss: 0.7029 - binary_accuracy: 0.5685 - val_loss: 0.7187 - val_binary_accuracy: 0.5640\n",
      "Epoch 12/50\n",
      " - 1s - loss: 0.7028 - binary_accuracy: 0.5681 - val_loss: 0.7141 - val_binary_accuracy: 0.5637\n",
      "Epoch 13/50\n",
      " - 2s - loss: 0.6994 - binary_accuracy: 0.5682 - val_loss: 0.7170 - val_binary_accuracy: 0.5635\n",
      "Epoch 14/50\n",
      " - 1s - loss: 0.7035 - binary_accuracy: 0.5682 - val_loss: 0.7202 - val_binary_accuracy: 0.5640\n",
      "Epoch 15/50\n",
      " - 1s - loss: 0.7033 - binary_accuracy: 0.5683 - val_loss: 0.7231 - val_binary_accuracy: 0.5639\n",
      "Epoch 16/50\n",
      " - 2s - loss: 0.7023 - binary_accuracy: 0.5684 - val_loss: 0.7161 - val_binary_accuracy: 0.5640\n",
      "Epoch 17/50\n",
      " - 1s - loss: 0.7023 - binary_accuracy: 0.5683 - val_loss: 0.7111 - val_binary_accuracy: 0.5637\n",
      "Epoch 18/50\n",
      " - 2s - loss: 0.6998 - binary_accuracy: 0.5686 - val_loss: 0.7146 - val_binary_accuracy: 0.5640\n",
      "Epoch 19/50\n",
      " - 1s - loss: 0.7021 - binary_accuracy: 0.5682 - val_loss: 0.7168 - val_binary_accuracy: 0.5634\n",
      "Epoch 20/50\n",
      " - 1s - loss: 0.7003 - binary_accuracy: 0.5684 - val_loss: 0.7247 - val_binary_accuracy: 0.5640\n",
      "Epoch 21/50\n",
      " - 1s - loss: 0.6999 - binary_accuracy: 0.5686 - val_loss: 0.7114 - val_binary_accuracy: 0.5642\n",
      "Epoch 22/50\n",
      " - 1s - loss: 0.7002 - binary_accuracy: 0.5685 - val_loss: 0.7220 - val_binary_accuracy: 0.5639\n",
      "Epoch 23/50\n",
      " - 2s - loss: 0.7031 - binary_accuracy: 0.5685 - val_loss: 0.7188 - val_binary_accuracy: 0.5642\n",
      "Epoch 24/50\n",
      " - 1s - loss: 0.7016 - binary_accuracy: 0.5686 - val_loss: 0.7163 - val_binary_accuracy: 0.5636\n",
      "Epoch 25/50\n",
      " - 2s - loss: 0.7025 - binary_accuracy: 0.5685 - val_loss: 0.7286 - val_binary_accuracy: 0.5640\n",
      "Epoch 26/50\n",
      " - 2s - loss: 0.7021 - binary_accuracy: 0.5684 - val_loss: 0.7150 - val_binary_accuracy: 0.5639\n",
      "Epoch 27/50\n",
      " - 2s - loss: 0.7006 - binary_accuracy: 0.5682 - val_loss: 0.7246 - val_binary_accuracy: 0.5638\n",
      "Epoch 28/50\n",
      " - 2s - loss: 0.7006 - binary_accuracy: 0.5685 - val_loss: 0.7257 - val_binary_accuracy: 0.5634\n",
      "Epoch 29/50\n",
      " - 1s - loss: 0.7008 - binary_accuracy: 0.5685 - val_loss: 0.7241 - val_binary_accuracy: 0.5637\n",
      "Epoch 30/50\n",
      " - 1s - loss: 0.7008 - binary_accuracy: 0.5684 - val_loss: 0.7164 - val_binary_accuracy: 0.5643\n",
      "Epoch 31/50\n",
      " - 1s - loss: 0.7018 - binary_accuracy: 0.5686 - val_loss: 0.7200 - val_binary_accuracy: 0.5641\n",
      "Epoch 32/50\n",
      " - 2s - loss: 0.7020 - binary_accuracy: 0.5686 - val_loss: 0.7170 - val_binary_accuracy: 0.5641\n",
      "Epoch 33/50\n",
      " - 2s - loss: 0.7023 - binary_accuracy: 0.5685 - val_loss: 0.7181 - val_binary_accuracy: 0.5642\n",
      "Epoch 34/50\n",
      " - 2s - loss: 0.7012 - binary_accuracy: 0.5688 - val_loss: 0.7171 - val_binary_accuracy: 0.5637\n",
      "Epoch 35/50\n",
      " - 2s - loss: 0.7017 - binary_accuracy: 0.5686 - val_loss: 0.7189 - val_binary_accuracy: 0.5638\n",
      "Epoch 36/50\n",
      " - 2s - loss: 0.7021 - binary_accuracy: 0.5689 - val_loss: 0.7190 - val_binary_accuracy: 0.5639\n",
      "Epoch 37/50\n",
      " - 2s - loss: 0.7029 - binary_accuracy: 0.5688 - val_loss: 0.7155 - val_binary_accuracy: 0.5638\n",
      "Epoch 38/50\n",
      " - 2s - loss: 0.7013 - binary_accuracy: 0.5685 - val_loss: 0.7228 - val_binary_accuracy: 0.5641\n",
      "Epoch 39/50\n",
      " - 1s - loss: 0.7038 - binary_accuracy: 0.5685 - val_loss: 0.7175 - val_binary_accuracy: 0.5625\n",
      "Epoch 40/50\n",
      " - 2s - loss: 0.7014 - binary_accuracy: 0.5685 - val_loss: 0.7195 - val_binary_accuracy: 0.5641\n",
      "Epoch 41/50\n",
      " - 2s - loss: 0.7033 - binary_accuracy: 0.5685 - val_loss: 0.7213 - val_binary_accuracy: 0.5640\n",
      "Epoch 42/50\n",
      " - 2s - loss: 0.7024 - binary_accuracy: 0.5686 - val_loss: 0.7219 - val_binary_accuracy: 0.5633\n",
      "Epoch 43/50\n",
      " - 2s - loss: 0.7035 - binary_accuracy: 0.5686 - val_loss: 0.7170 - val_binary_accuracy: 0.5641\n",
      "Epoch 44/50\n",
      " - 2s - loss: 0.7022 - binary_accuracy: 0.5683 - val_loss: 0.7199 - val_binary_accuracy: 0.5641\n",
      "Epoch 45/50\n",
      " - 2s - loss: 0.7032 - binary_accuracy: 0.5686 - val_loss: 0.7245 - val_binary_accuracy: 0.5636\n",
      "Epoch 46/50\n",
      " - 2s - loss: 0.7016 - binary_accuracy: 0.5688 - val_loss: 0.7249 - val_binary_accuracy: 0.5638\n",
      "Epoch 47/50\n",
      " - 2s - loss: 0.7020 - binary_accuracy: 0.5687 - val_loss: 0.7212 - val_binary_accuracy: 0.5641\n",
      "Epoch 48/50\n",
      " - 2s - loss: 0.7032 - binary_accuracy: 0.5686 - val_loss: 0.7223 - val_binary_accuracy: 0.5637\n",
      "Epoch 49/50\n",
      " - 2s - loss: 0.7022 - binary_accuracy: 0.5688 - val_loss: 0.7229 - val_binary_accuracy: 0.5639\n",
      "Epoch 50/50\n",
      " - 1s - loss: 0.7031 - binary_accuracy: 0.5687 - val_loss: 0.7126 - val_binary_accuracy: 0.5638\n"
     ]
    }
   ],
   "source": [
    "history = model.fit(X_train_part, y_train_part, validation_data=(X_val, y_val), batch_size=32, epochs=50, verbose=2)\n",
    "# got ~0.56"
   ]
  },
  {
   "cell_type": "code",
   "execution_count": 87,
   "metadata": {
    "collapsed": true
   },
   "outputs": [
    {
     "data": {
      "image/png": "[encoded data removed]",
      "text/plain": [
       "<Figure size 1296x432 with 2 Axes>"
      ]
     },
     "metadata": {},
     "output_type": "display_data"
    }
   ],
   "source": [
    "plot_train_stat_per_epoch(history.history)"
   ]
  },
  {
   "cell_type": "markdown",
   "metadata": {},
   "source": [
    "# Okay seems better to do one-hot"
   ]
  },
  {
   "cell_type": "code",
   "execution_count": 86,
   "metadata": {},
   "outputs": [],
   "source": [
    "def one_hot_encode_sequences(sequences, dimension=10000):\n",
    "    results = np.zeros((len(sequences), dimension))\n",
    "    for i, sequence in enumerate(sequences):\n",
    "        results[i, sequence] = 1.\n",
    "    return results"
   ]
  },
  {
   "cell_type": "code",
   "execution_count": 88,
   "metadata": {},
   "outputs": [],
   "source": [
    "X_oht = one_hot_encode_sequences(X_pad, dimension=max_words)"
   ]
  },
  {
   "cell_type": "code",
   "execution_count": 162,
   "metadata": {},
   "outputs": [],
   "source": [
    "from sklearn.model_selection import train_test_split\n",
    "\n",
    "X_train, X_test, y_train, y_test = train_test_split(X_oht, y, test_size=0.33, random_state=0)"
   ]
  },
  {
   "cell_type": "code",
   "execution_count": 163,
   "metadata": {},
   "outputs": [
    {
     "data": {
      "text/plain": [
       "(66992, 10000)"
      ]
     },
     "execution_count": 163,
     "metadata": {},
     "output_type": "execute_result"
    }
   ],
   "source": [
    "X_train.shape"
   ]
  },
  {
   "cell_type": "code",
   "execution_count": 164,
   "metadata": {},
   "outputs": [],
   "source": [
    "train_samples = int(X_train.shape[0] * 0.7)\n",
    "X_train_part = X_train[:train_samples]\n",
    "y_train_part = y_train[:train_samples]\n",
    "X_val = X_train[train_samples:]\n",
    "y_val = y_train[train_samples:]"
   ]
  },
  {
   "cell_type": "code",
   "execution_count": 93,
   "metadata": {},
   "outputs": [
    {
     "data": {
      "text/plain": [
       "GaussianNB(priors=None)"
      ]
     },
     "execution_count": 93,
     "metadata": {},
     "output_type": "execute_result"
    }
   ],
   "source": [
    "# from sklearn.naive_bayes import GaussianNB\n",
    "# nb = GaussianNB()\n",
    "# nb.fit(X_train_part, y_train_part)"
   ]
  },
  {
   "cell_type": "code",
   "execution_count": 94,
   "metadata": {},
   "outputs": [
    {
     "data": {
      "text/plain": [
       "0.5201512588317245"
      ]
     },
     "execution_count": 94,
     "metadata": {},
     "output_type": "execute_result"
    }
   ],
   "source": [
    "# nb.score(X_val, y_val)"
   ]
  },
  {
   "cell_type": "code",
   "execution_count": 181,
   "metadata": {},
   "outputs": [],
   "source": [
    "from keras.models import Sequential\n",
    "from keras.layers import Dense\n",
    "from keras.optimizers import RMSprop\n",
    "def model_1():\n",
    "    model = Sequential()\n",
    "    model.add(Dense(32, activation='relu', input_shape=(max_words,)))\n",
    "    model.add(Dense(1, activation='sigmoid'))\n",
    "\n",
    "    model.compile(optimizer='rmsprop', loss='binary_crossentropy', metrics=['binary_accuracy'])\n",
    "    model.summary()\n",
    "    \n",
    "    return model"
   ]
  },
  {
   "cell_type": "code",
   "execution_count": 178,
   "metadata": {},
   "outputs": [
    {
     "name": "stdout",
     "output_type": "stream",
     "text": [
      "Train on 46894 samples, validate on 20098 samples\n",
      "Epoch 1/10\n",
      " - 15s - loss: 0.5302 - binary_accuracy: 0.7400 - val_loss: 0.5035 - val_binary_accuracy: 0.7581\n",
      "Epoch 2/10\n",
      " - 13s - loss: 0.4733 - binary_accuracy: 0.7797 - val_loss: 0.5020 - val_binary_accuracy: 0.7629\n",
      "Epoch 3/10\n",
      " - 15s - loss: 0.4593 - binary_accuracy: 0.7915 - val_loss: 0.5009 - val_binary_accuracy: 0.7655\n",
      "Epoch 4/10\n",
      " - 15s - loss: 0.4509 - binary_accuracy: 0.7974 - val_loss: 0.5002 - val_binary_accuracy: 0.7689\n",
      "Epoch 5/10\n",
      " - 15s - loss: 0.4448 - binary_accuracy: 0.8003 - val_loss: 0.5042 - val_binary_accuracy: 0.7659\n",
      "Epoch 6/10\n",
      " - 14s - loss: 0.4407 - binary_accuracy: 0.8033 - val_loss: 0.5040 - val_binary_accuracy: 0.7691\n",
      "Epoch 7/10\n",
      " - 14s - loss: 0.4374 - binary_accuracy: 0.8055 - val_loss: 0.5023 - val_binary_accuracy: 0.7682\n",
      "Epoch 8/10\n",
      " - 14s - loss: 0.4345 - binary_accuracy: 0.8061 - val_loss: 0.5007 - val_binary_accuracy: 0.7679\n",
      "Epoch 9/10\n",
      " - 14s - loss: 0.4321 - binary_accuracy: 0.8086 - val_loss: 0.5016 - val_binary_accuracy: 0.7678\n",
      "Epoch 10/10\n",
      " - 13s - loss: 0.4301 - binary_accuracy: 0.8090 - val_loss: 0.5031 - val_binary_accuracy: 0.7642\n"
     ]
    }
   ],
   "source": [
    "model = model_1()\n",
    "history = model.fit(X_train_part, y_train_part, validation_data=(X_val, y_val), batch_size=32, epochs=10, verbose=2)\n",
    "# peak at (9, 0.7684)"
   ]
  },
  {
   "cell_type": "code",
   "execution_count": 179,
   "metadata": {},
   "outputs": [
    {
     "data": {
      "image/png": "[encoded data removed]",
      "text/plain": [
       "<Figure size 1296x432 with 2 Axes>"
      ]
     },
     "metadata": {},
     "output_type": "display_data"
    }
   ],
   "source": [
    "plot_train_stat_per_epoch(history.history)"
   ]
  },
  {
   "cell_type": "code",
   "execution_count": 183,
   "metadata": {},
   "outputs": [
    {
     "name": "stdout",
     "output_type": "stream",
     "text": [
      "Train on 46894 samples, validate on 20098 samples\n",
      "Epoch 1/6\n",
      " - 13s - loss: 0.5311 - binary_accuracy: 0.7390 - val_loss: 0.5063 - val_binary_accuracy: 0.7563\n",
      "Epoch 2/6\n",
      " - 13s - loss: 0.4752 - binary_accuracy: 0.7814 - val_loss: 0.5029 - val_binary_accuracy: 0.7613\n",
      "Epoch 3/6\n",
      " - 13s - loss: 0.4605 - binary_accuracy: 0.7908 - val_loss: 0.5011 - val_binary_accuracy: 0.7676\n",
      "Epoch 4/6\n",
      " - 13s - loss: 0.4519 - binary_accuracy: 0.7969 - val_loss: 0.5021 - val_binary_accuracy: 0.7648\n",
      "Epoch 5/6\n",
      " - 13s - loss: 0.4461 - binary_accuracy: 0.8004 - val_loss: 0.5022 - val_binary_accuracy: 0.7659\n",
      "Epoch 6/6\n",
      " - 13s - loss: 0.4425 - binary_accuracy: 0.8029 - val_loss: 0.5029 - val_binary_accuracy: 0.7670\n"
     ]
    },
    {
     "data": {
      "text/plain": [
       "<keras.callbacks.History at 0x244dc5815f8>"
      ]
     },
     "execution_count": 183,
     "metadata": {},
     "output_type": "execute_result"
    }
   ],
   "source": [
    "del model\n",
    "model = model_1()\n",
    "model.fit(X_train_part, y_train_part, validation_data=(X_val, y_val), batch_size=32, epochs=6, verbose=2)"
   ]
  },
  {
   "cell_type": "code",
   "execution_count": 184,
   "metadata": {},
   "outputs": [
    {
     "name": "stdout",
     "output_type": "stream",
     "text": [
      "32997/32997 [==============================] - 5s 166us/step\n"
     ]
    },
    {
     "data": {
      "text/plain": [
       "[0.4999716193866675, 0.7711913204248751]"
      ]
     },
     "execution_count": 184,
     "metadata": {},
     "output_type": "execute_result"
    }
   ],
   "source": [
    "model.evaluate(X_test, y_test)"
   ]
  },
  {
   "cell_type": "code",
   "execution_count": null,
   "metadata": {},
   "outputs": [],
   "source": []
  },
  {
   "cell_type": "code",
   "execution_count": null,
   "metadata": {},
   "outputs": [],
   "source": []
  },
  {
   "cell_type": "markdown",
   "metadata": {},
   "source": [
    "# Demo time"
   ]
  },
  {
   "cell_type": "code",
   "execution_count": 258,
   "metadata": {},
   "outputs": [],
   "source": [
    "tweet = tk.texts_to_sequences(['Awesome!! Good work man', \"That looks okay\", 'This demo sucks -_-\"'])"
   ]
  },
  {
   "cell_type": "code",
   "execution_count": 259,
   "metadata": {},
   "outputs": [],
   "source": [
    "tweet_pad = pad_sequences(tweet, maxlen=maxlen)"
   ]
  },
  {
   "cell_type": "code",
   "execution_count": 260,
   "metadata": {},
   "outputs": [],
   "source": [
    "tweeet_oht = one_hot_encode_sequences(tweet_pad, dimension=max_words)"
   ]
  },
  {
   "cell_type": "code",
   "execution_count": 261,
   "metadata": {},
   "outputs": [
    {
     "data": {
      "text/plain": [
       "array([[0.8685468 ],\n",
       "       [0.4870661 ],\n",
       "       [0.03392201]], dtype=float32)"
      ]
     },
     "execution_count": 261,
     "metadata": {},
     "output_type": "execute_result"
    }
   ],
   "source": [
    "model.predict(tweeet_oht)"
   ]
  },
  {
   "cell_type": "code",
   "execution_count": null,
   "metadata": {},
   "outputs": [],
   "source": []
  },
  {
   "cell_type": "code",
   "execution_count": null,
   "metadata": {},
   "outputs": [],
   "source": []
  },
  {
   "cell_type": "code",
   "execution_count": null,
   "metadata": {},
   "outputs": [],
   "source": []
  },
  {
   "cell_type": "code",
   "execution_count": null,
   "metadata": {},
   "outputs": [],
   "source": []
  },
  {
   "cell_type": "code",
   "execution_count": null,
   "metadata": {},
   "outputs": [],
   "source": []
  }
 ],
 "metadata": {
  "kernelspec": {
   "display_name": "Python 3",
   "language": "python",
   "name": "python3"
  },
  "language_info": {
   "codemirror_mode": {
    "name": "ipython",
    "version": 3
   },
   "file_extension": ".py",
   "mimetype": "text/x-python",
   "name": "python",
   "nbconvert_exporter": "python",
   "pygments_lexer": "ipython3",
   "version": "3.6.2"
  }
 },
 "nbformat": 4,
 "nbformat_minor": 2
}
