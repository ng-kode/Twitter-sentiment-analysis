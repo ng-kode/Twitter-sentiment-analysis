{
 "cells": [
  {
   "cell_type": "code",
   "execution_count": null,
   "metadata": {},
   "outputs": [],
   "source": [
    "import pandas as pd"
   ]
  },
  {
   "cell_type": "code",
   "execution_count": null,
   "metadata": {},
   "outputs": [],
   "source": [
    "df = pd.read_csv('train.csv', encoding='latin-1')\n",
    "maxlen_tweet = 30"
   ]
  },
  {
   "cell_type": "code",
   "execution_count": null,
   "metadata": {},
   "outputs": [],
   "source": [
    "tweets = df.SentimentText.tolist()\n",
    "sentiments = df.Sentiment.tolist()"
   ]
  },
  {
   "cell_type": "code",
   "execution_count": null,
   "metadata": {},
   "outputs": [],
   "source": [
    "import gensim.models.word2vec as w2v\n",
    "import multiprocessing\n",
    "import datetime\n",
    "\n",
    "tweets2vec = w2v.Word2Vec(\n",
    "    sg=1,\n",
    "    seed=1,\n",
    "    workers=multiprocessing.cpu_count(),\n",
    "    size=300,\n",
    "    min_count=3,\n",
    "    window=7,\n",
    "    sample=1e-3\n",
    ")\n",
    "\n",
    "tweets_split = [tweet.split() for tweet in tweets]\n",
    "tweets2vec.build_vocab(tweets_split)\n",
    "print(\"Word2Vec vocabulary length:\", len(tweets2vec.wv.vocab)) # 29822\n",
    "\n",
    "tweets2vec.train(tweets_split, total_examples=tweets2vec.corpus_count, epochs=5) # (4707892, 6650890)\n",
    "\n",
    "save_filename = \"tweets2vec_{}.w2v\".format(datetime.datetime.now().strftime(\"%Y-%m-%d_%H:%M:%S\"))\n",
    "tweets2vec.save(save_filename)"
   ]
  },
  {
   "cell_type": "code",
   "execution_count": null,
   "metadata": {},
   "outputs": [],
   "source": [
    "#load model\n",
    "tweets2vec = w2v.Word2Vec.load(save_filename)"
   ]
  },
  {
   "cell_type": "code",
   "execution_count": null,
   "metadata": {},
   "outputs": [],
   "source": [
    "tweets2vec.wv.most_similar(positive=[\"nice\"], topn=5)"
   ]
  }
 ],
 "metadata": {
  "kernelspec": {
   "display_name": "Python 3",
   "language": "python",
   "name": "python3"
  },
  "language_info": {
   "codemirror_mode": {
    "name": "ipython",
    "version": 3
   },
   "file_extension": ".py",
   "mimetype": "text/x-python",
   "name": "python",
   "nbconvert_exporter": "python",
   "pygments_lexer": "ipython3",
   "version": "3.5.2"
  }
 },
 "nbformat": 4,
 "nbformat_minor": 2
}
