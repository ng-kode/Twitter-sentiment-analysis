{
 "cells": [
  {
   "cell_type": "code",
   "execution_count": 1,
   "metadata": {},
   "outputs": [],
   "source": [
    "import pandas as pd\n",
    "import numpy as np\n",
    "import matplotlib.pyplot as plt\n",
    "%matplotlib inline\n",
    "from Helpers import plot_train_stat_per_epoch"
   ]
  },
  {
   "cell_type": "code",
   "execution_count": 2,
   "metadata": {
    "scrolled": true
   },
   "outputs": [],
   "source": [
    "# Source: https://www.kaggle.com/c/twitter-sentiment-analysis2/data\n",
    "# train: https://www.kaggle.com/c/6740/download/train.csv\n",
    "# test: https://www.kaggle.com/c/6740/download/test.csv\n",
    "\n",
    "df = pd.read_csv('train.csv', encoding='latin-1')"
   ]
  },
  {
   "cell_type": "code",
   "execution_count": 3,
   "metadata": {},
   "outputs": [],
   "source": [
    "X = df['SentimentText'].values\n",
    "y = df['Sentiment'].values"
   ]
  },
  {
   "cell_type": "code",
   "execution_count": 4,
   "metadata": {},
   "outputs": [
    {
     "name": "stderr",
     "output_type": "stream",
     "text": [
      "c:\\users\\richard.ng\\desktop\\python36\\lib\\site-packages\\h5py\\__init__.py:36: FutureWarning: Conversion of the second argument of issubdtype from `float` to `np.floating` is deprecated. In future, it will be treated as `np.float64 == np.dtype(float).type`.\n",
      "  from ._conv import register_converters as _register_converters\n",
      "Using TensorFlow backend.\n"
     ]
    }
   ],
   "source": [
    "from keras.preprocessing.text import Tokenizer\n",
    "\n",
    "tk = Tokenizer()\n",
    "tk.fit_on_texts(X)"
   ]
  },
  {
   "cell_type": "code",
   "execution_count": 5,
   "metadata": {},
   "outputs": [
    {
     "data": {
      "text/plain": [
       "106612"
      ]
     },
     "execution_count": 5,
     "metadata": {},
     "output_type": "execute_result"
    }
   ],
   "source": [
    "len(tk.word_index)"
   ]
  },
  {
   "cell_type": "code",
   "execution_count": 6,
   "metadata": {},
   "outputs": [],
   "source": [
    "max_words = 10000\n",
    "tk.num_words = max_words\n",
    "X_seq = tk.texts_to_sequences(X)"
   ]
  },
  {
   "cell_type": "code",
   "execution_count": 7,
   "metadata": {
    "collapsed": true
   },
   "outputs": [
    {
     "data": {
      "text/plain": [
       "(array([5.4866e+04, 4.2494e+04, 2.6260e+03, 1.0000e+00, 1.0000e+00,\n",
       "        0.0000e+00, 0.0000e+00, 0.0000e+00, 0.0000e+00, 1.0000e+00]),\n",
       " array([  1. ,  13.6,  26.2,  38.8,  51.4,  64. ,  76.6,  89.2, 101.8,\n",
       "        114.4, 127. ]),\n",
       " <a list of 10 Patch objects>)"
      ]
     },
     "execution_count": 7,
     "metadata": {},
     "output_type": "execute_result"
    },
    {
     "data": {
      "image/png": "[encoded data removed]",
      "text/plain": [
       "<Figure size 432x288 with 1 Axes>"
      ]
     },
     "metadata": {},
     "output_type": "display_data"
    }
   ],
   "source": [
    "plt.hist([len(tweet.split()) for tweet in X])"
   ]
  },
  {
   "cell_type": "code",
   "execution_count": 8,
   "metadata": {},
   "outputs": [],
   "source": [
    "from keras.preprocessing.sequence import pad_sequences\n",
    "\n",
    "maxlen = 30\n",
    "X_pad = pad_sequences(X_seq, maxlen=maxlen)"
   ]
  },
  {
   "cell_type": "code",
   "execution_count": 9,
   "metadata": {},
   "outputs": [
    {
     "data": {
      "text/plain": [
       "(99989, 30)"
      ]
     },
     "execution_count": 9,
     "metadata": {},
     "output_type": "execute_result"
    }
   ],
   "source": [
    "X_pad.shape"
   ]
  },
  {
   "cell_type": "code",
   "execution_count": 10,
   "metadata": {},
   "outputs": [
    {
     "data": {
      "text/plain": [
       "(99989,)"
      ]
     },
     "execution_count": 10,
     "metadata": {},
     "output_type": "execute_result"
    }
   ],
   "source": [
    "y.shape"
   ]
  },
  {
   "cell_type": "code",
   "execution_count": 11,
   "metadata": {},
   "outputs": [],
   "source": [
    "def one_hot_encode_sequences(sequences, dimension=10000):\n",
    "    results = np.zeros((len(sequences), dimension))\n",
    "    for i, sequence in enumerate(sequences):\n",
    "        results[i, sequence] = 1.\n",
    "    return results"
   ]
  },
  {
   "cell_type": "code",
   "execution_count": 12,
   "metadata": {},
   "outputs": [],
   "source": [
    "X_oht = one_hot_encode_sequences(X_pad, dimension=max_words)"
   ]
  },
  {
   "cell_type": "code",
   "execution_count": 14,
   "metadata": {},
   "outputs": [],
   "source": [
    "from sklearn.model_selection import train_test_split\n",
    "\n",
    "X_train, X_test, y_train, y_test = train_test_split(X_oht, y, test_size=0.33, random_state=0)"
   ]
  },
  {
   "cell_type": "code",
   "execution_count": 15,
   "metadata": {},
   "outputs": [
    {
     "data": {
      "text/plain": [
       "(66992, 10000)"
      ]
     },
     "execution_count": 15,
     "metadata": {},
     "output_type": "execute_result"
    }
   ],
   "source": [
    "X_train.shape"
   ]
  },
  {
   "cell_type": "code",
   "execution_count": 16,
   "metadata": {},
   "outputs": [],
   "source": [
    "from keras.models import Sequential\n",
    "from keras.layers import Dense\n",
    "from keras.optimizers import RMSprop\n",
    "def model_1():\n",
    "    model = Sequential()\n",
    "    model.add(Dense(32, activation='relu', input_shape=(max_words,)))\n",
    "    model.add(Dense(1, activation='sigmoid'))\n",
    "\n",
    "    model.compile(optimizer='rmsprop', loss='binary_crossentropy', metrics=['binary_accuracy'])\n",
    "    model.summary()\n",
    "    \n",
    "    return model"
   ]
  },
  {
   "cell_type": "code",
   "execution_count": 18,
   "metadata": {},
   "outputs": [
    {
     "name": "stdout",
     "output_type": "stream",
     "text": [
      "_________________________________________________________________\n",
      "Layer (type)                 Output Shape              Param #   \n",
      "=================================================================\n",
      "dense_3 (Dense)              (None, 32)                320032    \n",
      "_________________________________________________________________\n",
      "dense_4 (Dense)              (None, 1)                 33        \n",
      "=================================================================\n",
      "Total params: 320,065\n",
      "Trainable params: 320,065\n",
      "Non-trainable params: 0\n",
      "_________________________________________________________________\n",
      "Train on 53593 samples, validate on 13399 samples\n",
      "Epoch 1/10\n",
      " - 14s - loss: 0.5255 - binary_accuracy: 0.7421 - val_loss: 0.5009 - val_binary_accuracy: 0.7628\n",
      "Epoch 2/10\n",
      " - 13s - loss: 0.4754 - binary_accuracy: 0.7793 - val_loss: 0.4990 - val_binary_accuracy: 0.7680\n",
      "Epoch 3/10\n",
      " - 13s - loss: 0.4622 - binary_accuracy: 0.7891 - val_loss: 0.4956 - val_binary_accuracy: 0.7711\n",
      "Epoch 4/10\n",
      " - 13s - loss: 0.4544 - binary_accuracy: 0.7931 - val_loss: 0.4940 - val_binary_accuracy: 0.7707\n",
      "Epoch 5/10\n",
      " - 13s - loss: 0.4493 - binary_accuracy: 0.7974 - val_loss: 0.4947 - val_binary_accuracy: 0.7723\n",
      "Epoch 6/10\n",
      " - 14s - loss: 0.4456 - binary_accuracy: 0.7988 - val_loss: 0.4984 - val_binary_accuracy: 0.7719\n",
      "Epoch 7/10\n",
      " - 14s - loss: 0.4430 - binary_accuracy: 0.8020 - val_loss: 0.4952 - val_binary_accuracy: 0.7714\n",
      "Epoch 8/10\n",
      " - 14s - loss: 0.4406 - binary_accuracy: 0.8018 - val_loss: 0.4947 - val_binary_accuracy: 0.7732\n",
      "Epoch 9/10\n",
      " - 14s - loss: 0.4390 - binary_accuracy: 0.8047 - val_loss: 0.4939 - val_binary_accuracy: 0.7705\n",
      "Epoch 10/10\n",
      " - 14s - loss: 0.4368 - binary_accuracy: 0.8043 - val_loss: 0.4940 - val_binary_accuracy: 0.7710\n"
     ]
    }
   ],
   "source": [
    "model = model_1()\n",
    "history = model.fit(X_train, y_train, validation_split=0.2, batch_size=32, epochs=10, verbose=2)\n",
    "# peak at (9, 0.7684)"
   ]
  },
  {
   "cell_type": "code",
   "execution_count": 19,
   "metadata": {},
   "outputs": [
    {
     "data": {
      "image/png": "[encoded data removed]",
      "text/plain": [
       "<Figure size 1296x432 with 2 Axes>"
      ]
     },
     "metadata": {},
     "output_type": "display_data"
    }
   ],
   "source": [
    "plot_train_stat_per_epoch(history.history)"
   ]
  },
  {
   "cell_type": "code",
   "execution_count": 22,
   "metadata": {},
   "outputs": [],
   "source": [
    "optimal_ep = np.argmax(history.history['val_binary_accuracy']) + 1"
   ]
  },
  {
   "cell_type": "code",
   "execution_count": 24,
   "metadata": {},
   "outputs": [
    {
     "name": "stdout",
     "output_type": "stream",
     "text": [
      "_________________________________________________________________\n",
      "Layer (type)                 Output Shape              Param #   \n",
      "=================================================================\n",
      "dense_7 (Dense)              (None, 32)                320032    \n",
      "_________________________________________________________________\n",
      "dense_8 (Dense)              (None, 1)                 33        \n",
      "=================================================================\n",
      "Total params: 320,065\n",
      "Trainable params: 320,065\n",
      "Non-trainable params: 0\n",
      "_________________________________________________________________\n",
      "Train on 53593 samples, validate on 13399 samples\n",
      "Epoch 1/8\n",
      " - 15s - loss: 0.5257 - binary_accuracy: 0.7414 - val_loss: 0.4986 - val_binary_accuracy: 0.7652\n",
      "Epoch 2/8\n",
      " - 14s - loss: 0.4746 - binary_accuracy: 0.7801 - val_loss: 0.4999 - val_binary_accuracy: 0.7659\n",
      "Epoch 3/8\n",
      " - 13s - loss: 0.4610 - binary_accuracy: 0.7891 - val_loss: 0.4963 - val_binary_accuracy: 0.7692\n",
      "Epoch 4/8\n",
      " - 13s - loss: 0.4535 - binary_accuracy: 0.7948 - val_loss: 0.4948 - val_binary_accuracy: 0.7721\n",
      "Epoch 5/8\n",
      " - 13s - loss: 0.4484 - binary_accuracy: 0.7980 - val_loss: 0.4960 - val_binary_accuracy: 0.7713\n",
      "Epoch 6/8\n",
      " - 13s - loss: 0.4452 - binary_accuracy: 0.8006 - val_loss: 0.4959 - val_binary_accuracy: 0.7715\n",
      "Epoch 7/8\n",
      " - 13s - loss: 0.4424 - binary_accuracy: 0.8023 - val_loss: 0.4966 - val_binary_accuracy: 0.7717\n",
      "Epoch 8/8\n",
      " - 13s - loss: 0.4405 - binary_accuracy: 0.8025 - val_loss: 0.4934 - val_binary_accuracy: 0.7712\n"
     ]
    },
    {
     "data": {
      "text/plain": [
       "<keras.callbacks.History at 0x1a49e627198>"
      ]
     },
     "execution_count": 24,
     "metadata": {},
     "output_type": "execute_result"
    }
   ],
   "source": [
    "del model\n",
    "model = model_1()\n",
    "model.fit(X_train, y_train, validation_split=0.2, batch_size=32, epochs=optimal_ep, verbose=2)"
   ]
  },
  {
   "cell_type": "code",
   "execution_count": 25,
   "metadata": {},
   "outputs": [
    {
     "name": "stdout",
     "output_type": "stream",
     "text": [
      "32997/32997 [==============================] - 5s 137us/step\n"
     ]
    },
    {
     "data": {
      "text/plain": [
       "[0.4938236237313779, 0.7700093947934661]"
      ]
     },
     "execution_count": 25,
     "metadata": {},
     "output_type": "execute_result"
    }
   ],
   "source": [
    "model.evaluate(X_test, y_test)"
   ]
  },
  {
   "cell_type": "code",
   "execution_count": 26,
   "metadata": {},
   "outputs": [],
   "source": [
    "model.save('model_1.h5')"
   ]
  },
  {
   "cell_type": "code",
   "execution_count": null,
   "metadata": {},
   "outputs": [],
   "source": []
  },
  {
   "cell_type": "markdown",
   "metadata": {},
   "source": [
    "# Demo time"
   ]
  },
  {
   "cell_type": "code",
   "execution_count": 27,
   "metadata": {},
   "outputs": [],
   "source": [
    "tweet = tk.texts_to_sequences(['Awesome!! Good work man', \"That looks okay\", 'This demo sucks -_-\"'])"
   ]
  },
  {
   "cell_type": "code",
   "execution_count": 28,
   "metadata": {},
   "outputs": [],
   "source": [
    "tweet_pad = pad_sequences(tweet, maxlen=maxlen)"
   ]
  },
  {
   "cell_type": "code",
   "execution_count": 29,
   "metadata": {},
   "outputs": [],
   "source": [
    "tweeet_oht = one_hot_encode_sequences(tweet_pad, dimension=max_words)"
   ]
  },
  {
   "cell_type": "code",
   "execution_count": 30,
   "metadata": {},
   "outputs": [
    {
     "data": {
      "text/plain": [
       "array([[0.8427005 ],\n",
       "       [0.5499886 ],\n",
       "       [0.05215174]], dtype=float32)"
      ]
     },
     "execution_count": 30,
     "metadata": {},
     "output_type": "execute_result"
    }
   ],
   "source": [
    "model.predict(tweeet_oht)"
   ]
  },
  {
   "cell_type": "code",
   "execution_count": null,
   "metadata": {},
   "outputs": [],
   "source": []
  },
  {
   "cell_type": "code",
   "execution_count": null,
   "metadata": {},
   "outputs": [],
   "source": []
  },
  {
   "cell_type": "code",
   "execution_count": null,
   "metadata": {},
   "outputs": [],
   "source": []
  },
  {
   "cell_type": "code",
   "execution_count": null,
   "metadata": {},
   "outputs": [],
   "source": []
  },
  {
   "cell_type": "code",
   "execution_count": null,
   "metadata": {},
   "outputs": [],
   "source": []
  }
 ],
 "metadata": {
  "kernelspec": {
   "display_name": "Python 3",
   "language": "python",
   "name": "python3"
  },
  "language_info": {
   "codemirror_mode": {
    "name": "ipython",
    "version": 3
   },
   "file_extension": ".py",
   "mimetype": "text/x-python",
   "name": "python",
   "nbconvert_exporter": "python",
   "pygments_lexer": "ipython3",
   "version": "3.6.2"
  }
 },
 "nbformat": 4,
 "nbformat_minor": 2
}
